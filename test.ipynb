{
 "cells": [
  {
   "cell_type": "code",
   "execution_count": 3,
   "metadata": {},
   "outputs": [
    {
     "name": "stdout",
     "output_type": "stream",
     "text": [
      "You have searched for the topic Economía\n",
      "The book with the minimum price is Economía Básica ( 2 Edición) with a cost of S/20.81\n",
      "The book with the maximum discount is Breve Historia de la Economia with a discount of 50.01%\n"
     ]
    }
   ],
   "source": [
    "import requests\n",
    "import pandas as pd\n",
    "import numpy as np\n",
    "from bs4 import BeautifulSoup as bs\n",
    "\n",
    "# URL to scrape\n",
    "url = \"https://www.buscalibre.pe/libros/search/?q=\"\n",
    "\n",
    "# Search the topic you prefer\n",
    "user_input = input(\"Ingrese el libro que desea buscar: \")\n",
    "\n",
    "url_final = url + user_input\n",
    "\n",
    "response = requests.get(url_final)\n",
    "soup = bs(response.text, \"html.parser\")\n",
    "\n",
    "headers = {\n",
    "    \"User-Agent\": \"Mozilla/5.0 (Windows NT 10.0; Win64; x64) AppleWebKit/537.36 (KHTML, like Gecko) Chrome/58.0.3029.110 Safari/537.36\"\n",
    "}\n",
    "\n",
    "response = requests.get(url_final, headers=headers)\n",
    "\n",
    "# Verify an OK response\n",
    "if response.status_code == 200:\n",
    "    soup = bs(response.text, \"html.parser\")\n",
    "    print(f\"You have searched for the topic {user_input}\")  # Imprime el HTML de manera legible\n",
    "else:\n",
    "    print(f\"Error {response.status_code}: No se pudo acceder al sitio web\")\n",
    "\n",
    "titles = []\n",
    "prices_before = []\n",
    "prices_now = []\n",
    "discounts = []\n",
    "\n",
    "for objeto in soup.find_all(\"div\", class_=\"box-producto\"):\n",
    "    title = objeto.find(\"h3\").text.strip()\n",
    "    price_before = objeto.find(\"p\", class_=\"precio-antes\").text.strip()\n",
    "    price_before = price_before.replace(\"S/  \", \"\")\n",
    "    price_before = price_before.replace(\",\", \".\")\n",
    "    price_before = float(price_before)\n",
    "    price_now = objeto.find(\"p\", class_=\"precio-ahora\").text.strip()\n",
    "    price_now = price_now.replace(\"S/  \", \"\")\n",
    "    price_now = price_now.replace(\",\", \".\")\n",
    "    price_now = float(price_now)\n",
    "\n",
    "    discount = round((price_before - price_now) / price_before * 100, 2)\n",
    "    \n",
    "    titles.append(title)\n",
    "    prices_before.append(price_before)\n",
    "    prices_now.append(price_now)\n",
    "    discounts.append(discount)\n",
    "\n",
    "df = pd.DataFrame({\n",
    "    \"Title\" : titles,\n",
    "    \"Prices before\" : prices_before,\n",
    "    \"Prices now\" : prices_now,\n",
    "    \"Discount\" : discounts\n",
    "})\n",
    "\n",
    "# Get the book with the minimum price\n",
    "min_price_book = df[df['Prices now'] == df['Prices now'].min()]\n",
    "\n",
    "# Get the book with the maximum discount\n",
    "max_discount_book = df[df['Discount'] == df['Discount'].max()]\n",
    "\n",
    "# Print the data\n",
    "print(f\"The book with the minimum price is {min_price_book.iloc[0, 0]} with a cost of S/{min_price_book.iloc[0, 2]}\")\n",
    "print(f\"The book with the maximum discount is {max_discount_book.iloc[0, 0]} with a discount of {max_discount_book.iloc[0, 3]}%\")"
   ]
  }
 ],
 "metadata": {
  "kernelspec": {
   "display_name": "Python 3",
   "language": "python",
   "name": "python3"
  },
  "language_info": {
   "codemirror_mode": {
    "name": "ipython",
    "version": 3
   },
   "file_extension": ".py",
   "mimetype": "text/x-python",
   "name": "python",
   "nbconvert_exporter": "python",
   "pygments_lexer": "ipython3",
   "version": "3.12.4"
  }
 },
 "nbformat": 4,
 "nbformat_minor": 2
}
